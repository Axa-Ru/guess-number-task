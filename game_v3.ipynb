{
 "cells": [
  {
   "cell_type": "markdown",
   "metadata": {},
   "source": [
    "# Игра угадай число"
   ]
  },
  {
   "cell_type": "markdown",
   "metadata": {},
   "source": [
    "## Угадываем методом дихотомии"
   ]
  },
  {
   "cell_type": "markdown",
   "metadata": {},
   "source": [
    "### <- нажми для просмотра кода новой функции"
   ]
  },
  {
   "cell_type": "code",
   "execution_count": 27,
   "metadata": {},
   "outputs": [],
   "source": [
    "def random_predict2(number: int = 1) -> int:\n",
    "    \"\"\" Угадываем число методом дихотомии.\n",
    "        Вычисляем предполагаемое число, как среднее между верхней и нижней границей.\n",
    "          Если\n",
    "            предполагаемое число больше,\n",
    "              то нижняя граница приравнивается предпологамому числу;\n",
    "            предполагаемое число меньше,\n",
    "              то верхняя граница приравнивается предпологамому числу;\n",
    "            если равны - ок. мы нашли его.\n",
    "\n",
    "    Args:\n",
    "        number (int, optional): Загаданное число. Defaults to 1.\n",
    "\n",
    "    Returns:\n",
    "        int: Число попыток\n",
    "    \"\"\"\n",
    "    count: int = 0\n",
    "    bottom = 1\n",
    "    upper = 101\n",
    "\n",
    "    while True:\n",
    "        count += 1\n",
    "        # сумма может быть нечетная - округляем\n",
    "        predict_number = int((upper + bottom) / 2)  # предполагаемое число\n",
    "        if number == predict_number:\n",
    "            break  # выход из цикла, если угадали\n",
    "        if number > predict_number:\n",
    "            bottom = predict_number\n",
    "        else:\n",
    "            upper = predict_number\n",
    "\n",
    "    return count\n"
   ]
  },
  {
   "cell_type": "markdown",
   "metadata": {},
   "source": [
    "## Проверяем новый алгоритм"
   ]
  },
  {
   "cell_type": "code",
   "execution_count": 28,
   "metadata": {},
   "outputs": [
    {
     "name": "stdout",
     "output_type": "stream",
     "text": [
      "Ваш алгоритм угадывает число в среднем за:5 попыток\n"
     ]
    },
    {
     "data": {
      "text/plain": [
       "5"
      ]
     },
     "execution_count": 28,
     "metadata": {},
     "output_type": "execute_result"
    }
   ],
   "source": [
    "from game_v3 import score_game\n",
    "from game_v3 import random_predict2\n",
    "\n",
    "score_game(random_predict2)"
   ]
  }
 ],
 "metadata": {
  "kernelspec": {
   "display_name": "Python 3.10.6 64-bit",
   "language": "python",
   "name": "python3"
  },
  "language_info": {
   "codemirror_mode": {
    "name": "ipython",
    "version": 3
   },
   "file_extension": ".py",
   "mimetype": "text/x-python",
   "name": "python",
   "nbconvert_exporter": "python",
   "pygments_lexer": "ipython3",
   "version": "3.10.6"
  },
  "orig_nbformat": 4,
  "vscode": {
   "interpreter": {
    "hash": "916dbcbb3f70747c44a77c7bcd40155683ae19c65e1c03b4aa3499c5328201f1"
   }
  }
 },
 "nbformat": 4,
 "nbformat_minor": 2
}
